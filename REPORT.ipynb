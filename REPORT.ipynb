{
 "cells": [
  {
   "cell_type": "markdown",
   "metadata": {},
   "source": [
    "# Deep Q-Learning for Space Invaders\n",
    "\n",
    "This report documents the implementation, modifications, and results of training a Deep Q-Learning (DQL) model to play the Space Invaders game. The task involved adapting an example from the lecture material, running the model, and optimizing the implementation for time and resource efficiency. The trained model and the source code were submitted as per the task requirements.\n"
   ]
  },
  {
   "cell_type": "markdown",
   "metadata": {},
   "source": [
    "\n",
    "## **Task Overview**\n",
    "\n",
    "The original implementation of DQL required training for 50 million frames, a process demanding significant computational resources. Given the constraints of this project, the focus was on experementing with the training process. This document outlines the changes made to the model, the challenges faced, and the results obtained.\n"
   ]
  },
  {
   "cell_type": "markdown",
   "metadata": {},
   "source": [
    "## **Modifications and Optimizations**\n",
    "\n",
    "### **Initial Changes**\n",
    "\n",
    " **Activation Function:**\n",
    "   - The activation function was changed from ReLU to Leaky ReLU.\n",
    "\n",
    " **Environment Recording:**\n",
    "   - Added `env = RecordEpisodeStatistics(env)` to try to monitor and log episode statistics.\n",
    "\n",
    " **Running Reward Threshold:**\n",
    "   - The initial running reward threshold was set to **9000** as a goal for performance evaluation.\n"
   ]
  },
  {
   "cell_type": "markdown",
   "metadata": {},
   "source": [
    "\n",
    "### **Training Session 1 (Local Machine, Visual Studio)**\n",
    "\n",
    "- **Result:**\n",
    "  - The script ran for approximately 40 hours.\n",
    "  - Achieved a best score of 685.0, with a running reward of 198.80 at episode 615 and frame count 340,000.\n",
    "- **Challenge:**\n",
    "  - Visual Studio crashed, interrupting the training process.\n"
   ]
  },
  {
   "cell_type": "markdown",
   "metadata": {},
   "source": [
    "\n",
    "### **Training Session 2 (a try with Kaggle Notebooks, Local Machine)**\n",
    "\n",
    "- Attempted to continue training using Kaggle Notebooks.\n",
    "- **Issue:**\n",
    "  - Encountered a `ValueError: bad marshal data (unknown type code)` when attempting to download and use the previously saved model.\n",
    "- **Resolution:**\n",
    "  - Switched back to training on the local machine.\n",
    "\n",
    "### **Subsequent Changes**\n",
    "\n",
    " **Running Reward Adjustment:**\n",
    "   - The running reward threshold was lowered to **1000** as 9000 was too optimistic.\n",
    "\n",
    " **Exploration Rate Adjustments:**\n",
    "   - **Epsilon_max:** Reduced to **0.7**.\n",
    "   - **Epsilon_min:** Reduced to **0.05**.\n",
    "\n",
    " **Memory Management:**\n",
    "   - **Max_memory_length:** Reduced to **10,000** to alleviate memory issues on the local machine.\n",
    "\n",
    " **Result:**\n",
    "  - Training reached a frame count of **4,930,000**.\n",
    "  - However, Visual Studio crashed again due to memory limitations.\n"
   ]
  },
  {
   "cell_type": "markdown",
   "metadata": {},
   "source": [
    "\n",
    "### **Training Session 3 (Local Machine)**\n",
    "\n",
    "- Resumed training on the local machine after the crash due to \"run out of memory\" issues.\n",
    "\n",
    "\n",
    "### **Final Adjustments**\n",
    "\n",
    " **Exploration Rate:**\n",
    "   - Restored final exploration rate (ε) to **0.1**, as recommended in the original DeepMind paper.\n",
    "\n",
    " **Environment Vectorization:**\n",
    "   - Attempted to vectorize the environment to speed up training.\n",
    "   - **Issue:**\n",
    "     - This resulted in very strange statistical outputs for rewards and best scores. Also, the process didn't seem to become faster (same 10000 frames per first 10 minutes), so training was reverted back to single-environment training.\n",
    "\n",
    " **Starting Epsilon:**\n",
    "   - Set the starting epsilon (ε) to **0.5**, considering the continued nature of training.\n",
    "\n",
    "### **Final Results**\n",
    "\n",
    "- Visual Studio crashed again after reaching a total frame count of **5,990,000**.\n",
    "- This was considered to be the final point of the training.\n",
    "- The training process was distributed over three sessions, each lasting approximately 3 days.\n",
    "\n"
   ]
  },
  {
   "cell_type": "markdown",
   "metadata": {},
   "source": [
    "\n",
    "## **Challenges and Resolutions**\n",
    "\n",
    "### **Computational Limitations**\n",
    "- Limited computational power restricted the ability to train even for 10 million frames as the school task suggested.\n",
    "\n",
    "### **Software Crashes**\n",
    "- Visual Studio crashes due to memory issues were mitigated by:\n",
    "  - Reducing `max_memory_length`.\n"
   ]
  },
  {
   "cell_type": "markdown",
   "metadata": {},
   "source": [
    "\n",
    "## **Conclusion**\n",
    "\n",
    "Despite computational and technical challenges, the model was trained to achieve best score of last 100: 825.0, running reward: 257.40 at episode 9680.\n",
    "\n",
    "The project highlights the importance of adapting machine learning models to computational resources and iteratively improving implementation to overcome challenges. Further optimization and access to higher computational resources would allow for extended training and improved performance.\n"
   ]
  },
  {
   "cell_type": "markdown",
   "metadata": {},
   "source": [
    "## **Repository Documentation**\n",
    "\n",
    "The folder \"code\" contains the code for the 3 training sessions.\n",
    "\n",
    "The folder \"process\" contains some theoretical research as well the log notes made during the training process.\n",
    "\n",
    "The folder \"viz\" contains two last video outputs as well as the statistics and its visualization for two last training sessions.\n",
    "\n"
   ]
  },
  {
   "cell_type": "code",
   "execution_count": null,
   "metadata": {
    "vscode": {
     "languageId": "plaintext"
    }
   },
   "outputs": [],
   "source": []
  }
 ],
 "metadata": {
  "language_info": {
   "name": "python"
  }
 },
 "nbformat": 4,
 "nbformat_minor": 2
}
