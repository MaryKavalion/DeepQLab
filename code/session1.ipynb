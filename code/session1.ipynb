{
 "cells": [
  {
   "cell_type": "code",
   "execution_count": 30,
   "metadata": {},
   "outputs": [],
   "source": [
    "import keras\n",
    "from keras import layers\n",
    "import gymnasium as gym\n",
    "from gymnasium.wrappers.frame_stack import FrameStack\n",
    "from gymnasium.wrappers.atari_preprocessing import AtariPreprocessing\n",
    "import numpy as np\n",
    "import tensorflow as tf\n",
    "import ale_py\n"
   ]
  },
  {
   "cell_type": "code",
   "execution_count": 31,
   "metadata": {},
   "outputs": [],
   "source": [
    "import logging"
   ]
  },
  {
   "cell_type": "code",
   "execution_count": null,
   "metadata": {},
   "outputs": [],
   "source": [
    "from gymnasium.wrappers import RecordEpisodeStatistics"
   ]
  },
  {
   "cell_type": "code",
   "execution_count": 34,
   "metadata": {},
   "outputs": [],
   "source": [
    "\n",
    "gym.register_envs(ale_py)\n"
   ]
  },
  {
   "cell_type": "code",
   "execution_count": 35,
   "metadata": {},
   "outputs": [],
   "source": [
    "env = gym.make('SpaceInvadersNoFrameskip-v4', render_mode=\"rgb_array\")"
   ]
  },
  {
   "cell_type": "code",
   "execution_count": null,
   "metadata": {},
   "outputs": [],
   "source": [
    "\n",
    "seed = 42\n",
    "gamma = 0.99 # discount_factor\n",
    "epsilon = 1.0 \n",
    "epsilon_min = 0.1 \n",
    "epsilon_max = 1.0\n",
    "epsilon_interval = (epsilon_max - epsilon_min)\n",
    "batch_size = 32\n",
    "max_steps_per_episode = 10000 \n",
    "max_episodes = 0 # 0 is infinite\n",
    "max_frames = 1e7 \n",
    "\n",
    "env = AtariPreprocessing(env)\n",
    "\n",
    "env = FrameStack(env, 4)\n",
    "trigger = lambda t: t % 50 == 0\n",
    "env = gym.wrappers.RecordVideo(env, video_folder=\"./Outputs/videos\", name_prefix='training', episode_trigger=trigger, disable_logger=False)\n",
    "env = RecordEpisodeStatistics(env)\n",
    "\n",
    "num_actions = 4"
   ]
  },
  {
   "cell_type": "code",
   "execution_count": null,
   "metadata": {},
   "outputs": [],
   "source": [
    "def create_q_model():\n",
    "    return keras.Sequential(\n",
    "        [\n",
    "            layers.Lambda\n",
    "            (\n",
    "                lambda tensor: keras.ops.transpose(tensor, [0, 2, 3, 1]),\n",
    "                output_shape=(84, 84, 4),\n",
    "                input_shape=(4, 84, 84)\n",
    "            ),\n",
    "            layers.Conv2D(32, kernel_size=8, strides=4, activation=\"leaky_relu\"),\n",
    "            layers.Conv2D(64, kernel_size=4, strides=2, activation=\"leaky_relu\"),\n",
    "            layers.Conv2D(64, kernel_size=3, strides=1, activation=\"leaky_relu\"),\n",
    "            layers.Flatten(),\n",
    "            layers.Dense(512, activation=\"leaky_relu\"),\n",
    "            layers.Dense(num_actions, activation=\"linear\")\n",
    "        ]\n",
    "    )\n",
    "\n",
    "\n",
    "model = create_q_model()\n",
    "model_target = create_q_model()\n",
    "\n",
    "optimizer = keras.optimizers.Adam(learning_rate=0.00025, clipnorm=1.0)\n",
    "\n",
    "# observation, _ = env.reset(seed=42)\n",
    "# state = np.array(observation)\n",
    "# state_tensor = keras.ops.convert_to_tensor(state)\n",
    "# state_tensor = keras.ops.expand_dims(state_tensor, 0)\n",
    "# print(state_tensor)\n",
    "\n",
    "action_history = []\n",
    "state_history = []\n",
    "state_next_history = []\n",
    "rewards_history = []\n",
    "done_history = []\n",
    "episode_reward_history = []\n",
    "running_reward = 0\n",
    "episode_count = 0\n",
    "frame_count = 0\n",
    "\n",
    "# Number of frames to take random action and observe output\n",
    "epsilon_random_frames = 50000\n",
    "# Number of frames for exploration\n",
    "epsilon_greedy_frames = 1000000.0\n",
    "# Maximum replay length\n",
    "# Note: The Deepmind paper suggests 1000000 however this causes memory issues\n",
    "max_memory_length = 1000000\n",
    "# Train the model after 4 actions\n",
    "update_after_actions = 4\n",
    "# How often to update the target network\n",
    "update_target_network = 10000\n",
    "# Using huber loss for stability\n",
    "loss_function = keras.losses.Huber()\n"
   ]
  },
  {
   "cell_type": "code",
   "execution_count": null,
   "metadata": {},
   "outputs": [
    {
     "name": "stdout",
     "output_type": "stream",
     "text": [
      "MoviePy - Building video d:\\workdir\\DeepQLab\\Outputs\\videos\\training-episode-0.mp4.\n",
      "MoviePy - Writing video d:\\workdir\\DeepQLab\\Outputs\\videos\\training-episode-0.mp4\n",
      "\n"
     ]
    },
    {
     "name": "stderr",
     "output_type": "stream",
     "text": [
      "                                                                          \r"
     ]
    },
    {
     "name": "stdout",
     "output_type": "stream",
     "text": [
      "MoviePy - Done !\n",
      "MoviePy - video ready d:\\workdir\\DeepQLab\\Outputs\\videos\\training-episode-0.mp4\n",
      "best score of last 100: 380.0, running reward: 130.50 at episode 20, frame count 10000\n",
      "best score of last 100: 440.0, running reward: 115.12 at episode 41, frame count 20000\n",
      "MoviePy - Building video d:\\workdir\\DeepQLab\\Outputs\\videos\\training-episode-50.mp4.\n",
      "MoviePy - Writing video d:\\workdir\\DeepQLab\\Outputs\\videos\\training-episode-50.mp4\n",
      "\n"
     ]
    },
    {
     "name": "stderr",
     "output_type": "stream",
     "text": [
      "                                                                          "
     ]
    },
    {
     "name": "stdout",
     "output_type": "stream",
     "text": [
      "MoviePy - Done !\n",
      "MoviePy - video ready d:\\workdir\\DeepQLab\\Outputs\\videos\\training-episode-50.mp4\n"
     ]
    },
    {
     "name": "stderr",
     "output_type": "stream",
     "text": [
      "\r"
     ]
    },
    {
     "name": "stdout",
     "output_type": "stream",
     "text": [
      "best score of last 100: 440.0, running reward: 123.58 at episode 60, frame count 30000\n",
      "best score of last 100: 440.0, running reward: 117.32 at episode 82, frame count 40000\n",
      "best score of last 100: 440.0, running reward: 122.55 at episode 100, frame count 50000\n",
      "MoviePy - Building video d:\\workdir\\DeepQLab\\Outputs\\videos\\training-episode-100.mp4.\n",
      "MoviePy - Writing video d:\\workdir\\DeepQLab\\Outputs\\videos\\training-episode-100.mp4\n",
      "\n"
     ]
    },
    {
     "name": "stderr",
     "output_type": "stream",
     "text": [
      "                                                                          \r"
     ]
    },
    {
     "name": "stdout",
     "output_type": "stream",
     "text": [
      "MoviePy - Done !\n",
      "MoviePy - video ready d:\\workdir\\DeepQLab\\Outputs\\videos\\training-episode-100.mp4\n",
      "best score of last 100: 440.0, running reward: 121.45 at episode 118, frame count 60000\n",
      "best score of last 100: 440.0, running reward: 132.65 at episode 135, frame count 70000\n",
      "MoviePy - Building video d:\\workdir\\DeepQLab\\Outputs\\videos\\training-episode-150.mp4.\n",
      "MoviePy - Writing video d:\\workdir\\DeepQLab\\Outputs\\videos\\training-episode-150.mp4\n",
      "\n"
     ]
    },
    {
     "name": "stderr",
     "output_type": "stream",
     "text": [
      "                                                                          \r"
     ]
    },
    {
     "name": "stdout",
     "output_type": "stream",
     "text": [
      "MoviePy - Done !\n",
      "MoviePy - video ready d:\\workdir\\DeepQLab\\Outputs\\videos\\training-episode-150.mp4\n",
      "best score of last 100: 425.0, running reward: 133.80 at episode 155, frame count 80000\n",
      "best score of last 100: 470.0, running reward: 146.95 at episode 173, frame count 90000\n",
      "best score of last 100: 670.0, running reward: 157.95 at episode 191, frame count 100000\n",
      "MoviePy - Building video d:\\workdir\\DeepQLab\\Outputs\\videos\\training-episode-200.mp4.\n",
      "MoviePy - Writing video d:\\workdir\\DeepQLab\\Outputs\\videos\\training-episode-200.mp4\n",
      "\n"
     ]
    },
    {
     "name": "stderr",
     "output_type": "stream",
     "text": [
      "                                                                         \r"
     ]
    },
    {
     "name": "stdout",
     "output_type": "stream",
     "text": [
      "MoviePy - Done !\n",
      "MoviePy - video ready d:\\workdir\\DeepQLab\\Outputs\\videos\\training-episode-200.mp4\n",
      "best score of last 100: 670.0, running reward: 158.05 at episode 211, frame count 110000\n",
      "best score of last 100: 670.0, running reward: 164.85 at episode 229, frame count 120000\n",
      "best score of last 100: 670.0, running reward: 166.25 at episode 248, frame count 130000\n",
      "MoviePy - Building video d:\\workdir\\DeepQLab\\Outputs\\videos\\training-episode-250.mp4.\n",
      "MoviePy - Writing video d:\\workdir\\DeepQLab\\Outputs\\videos\\training-episode-250.mp4\n",
      "\n"
     ]
    },
    {
     "name": "stderr",
     "output_type": "stream",
     "text": [
      "                                                                         \r"
     ]
    },
    {
     "name": "stdout",
     "output_type": "stream",
     "text": [
      "MoviePy - Done !\n",
      "MoviePy - video ready d:\\workdir\\DeepQLab\\Outputs\\videos\\training-episode-250.mp4\n",
      "best score of last 100: 670.0, running reward: 161.85 at episode 266, frame count 140000\n",
      "best score of last 100: 660.0, running reward: 147.90 at episode 286, frame count 150000\n",
      "MoviePy - Building video d:\\workdir\\DeepQLab\\Outputs\\videos\\training-episode-300.mp4.\n",
      "MoviePy - Writing video d:\\workdir\\DeepQLab\\Outputs\\videos\\training-episode-300.mp4\n",
      "\n"
     ]
    },
    {
     "name": "stderr",
     "output_type": "stream",
     "text": [
      "                                                                         \r"
     ]
    },
    {
     "name": "stdout",
     "output_type": "stream",
     "text": [
      "MoviePy - Done !\n",
      "MoviePy - video ready d:\\workdir\\DeepQLab\\Outputs\\videos\\training-episode-300.mp4\n",
      "best score of last 100: 660.0, running reward: 149.55 at episode 305, frame count 160000\n",
      "best score of last 100: 660.0, running reward: 153.00 at episode 321, frame count 170000\n",
      "best score of last 100: 660.0, running reward: 159.00 at episode 339, frame count 180000\n",
      "MoviePy - Building video d:\\workdir\\DeepQLab\\Outputs\\videos\\training-episode-350.mp4.\n",
      "MoviePy - Writing video d:\\workdir\\DeepQLab\\Outputs\\videos\\training-episode-350.mp4\n",
      "\n"
     ]
    },
    {
     "name": "stderr",
     "output_type": "stream",
     "text": [
      "                                                                         \r"
     ]
    },
    {
     "name": "stdout",
     "output_type": "stream",
     "text": [
      "MoviePy - Done !\n",
      "MoviePy - video ready d:\\workdir\\DeepQLab\\Outputs\\videos\\training-episode-350.mp4\n",
      "best score of last 100: 660.0, running reward: 159.95 at episode 356, frame count 190000\n",
      "best score of last 100: 515.0, running reward: 159.35 at episode 375, frame count 200000\n",
      "best score of last 100: 515.0, running reward: 166.80 at episode 391, frame count 210000\n",
      "MoviePy - Building video d:\\workdir\\DeepQLab\\Outputs\\videos\\training-episode-400.mp4.\n",
      "MoviePy - Writing video d:\\workdir\\DeepQLab\\Outputs\\videos\\training-episode-400.mp4\n",
      "\n"
     ]
    },
    {
     "name": "stderr",
     "output_type": "stream",
     "text": [
      "                                                                         \r"
     ]
    },
    {
     "name": "stdout",
     "output_type": "stream",
     "text": [
      "MoviePy - Done !\n",
      "MoviePy - video ready d:\\workdir\\DeepQLab\\Outputs\\videos\\training-episode-400.mp4\n",
      "best score of last 100: 515.0, running reward: 169.45 at episode 409, frame count 220000\n",
      "best score of last 100: 455.0, running reward: 159.40 at episode 428, frame count 230000\n",
      "best score of last 100: 455.0, running reward: 157.10 at episode 446, frame count 240000\n",
      "MoviePy - Building video d:\\workdir\\DeepQLab\\Outputs\\videos\\training-episode-450.mp4.\n",
      "MoviePy - Writing video d:\\workdir\\DeepQLab\\Outputs\\videos\\training-episode-450.mp4\n",
      "\n"
     ]
    },
    {
     "name": "stderr",
     "output_type": "stream",
     "text": [
      "                                                                         \r"
     ]
    },
    {
     "name": "stdout",
     "output_type": "stream",
     "text": [
      "MoviePy - Done !\n",
      "MoviePy - video ready d:\\workdir\\DeepQLab\\Outputs\\videos\\training-episode-450.mp4\n",
      "best score of last 100: 455.0, running reward: 164.00 at episode 464, frame count 250000\n",
      "best score of last 100: 715.0, running reward: 165.40 at episode 480, frame count 260000\n",
      "best score of last 100: 715.0, running reward: 175.35 at episode 497, frame count 270000\n",
      "MoviePy - Building video d:\\workdir\\DeepQLab\\Outputs\\videos\\training-episode-500.mp4.\n",
      "MoviePy - Writing video d:\\workdir\\DeepQLab\\Outputs\\videos\\training-episode-500.mp4\n",
      "\n"
     ]
    },
    {
     "name": "stderr",
     "output_type": "stream",
     "text": [
      "                                                                         \r"
     ]
    },
    {
     "name": "stdout",
     "output_type": "stream",
     "text": [
      "MoviePy - Done !\n",
      "MoviePy - video ready d:\\workdir\\DeepQLab\\Outputs\\videos\\training-episode-500.mp4\n",
      "best score of last 100: 715.0, running reward: 188.35 at episode 512, frame count 280000\n",
      "best score of last 100: 715.0, running reward: 190.05 at episode 531, frame count 290000\n",
      "best score of last 100: 715.0, running reward: 186.30 at episode 549, frame count 300000\n",
      "MoviePy - Building video d:\\workdir\\DeepQLab\\Outputs\\videos\\training-episode-550.mp4.\n",
      "MoviePy - Writing video d:\\workdir\\DeepQLab\\Outputs\\videos\\training-episode-550.mp4\n",
      "\n"
     ]
    },
    {
     "name": "stderr",
     "output_type": "stream",
     "text": [
      "                                                                         \r"
     ]
    },
    {
     "name": "stdout",
     "output_type": "stream",
     "text": [
      "MoviePy - Done !\n",
      "MoviePy - video ready d:\\workdir\\DeepQLab\\Outputs\\videos\\training-episode-550.mp4\n",
      "best score of last 100: 715.0, running reward: 196.60 at episode 567, frame count 310000\n",
      "best score of last 100: 685.0, running reward: 196.70 at episode 584, frame count 320000\n",
      "best score of last 100: 685.0, running reward: 197.05 at episode 599, frame count 330000\n",
      "MoviePy - Building video d:\\workdir\\DeepQLab\\Outputs\\videos\\training-episode-600.mp4.\n",
      "MoviePy - Writing video d:\\workdir\\DeepQLab\\Outputs\\videos\\training-episode-600.mp4\n",
      "\n"
     ]
    },
    {
     "name": "stderr",
     "output_type": "stream",
     "text": [
      "                                                                         \r"
     ]
    },
    {
     "name": "stdout",
     "output_type": "stream",
     "text": [
      "MoviePy - Done !\n",
      "MoviePy - video ready d:\\workdir\\DeepQLab\\Outputs\\videos\\training-episode-600.mp4\n",
      "best score of last 100: 685.0, running reward: 198.80 at episode 615, frame count 340000\n"
     ]
    }
   ],
   "source": [
    "\n",
    "while True:\n",
    "    observation, info = env.reset()\n",
    "    state = np.array(observation)\n",
    "    episode_reward = 0\n",
    "\n",
    "    for timestep in range(1, max_steps_per_episode):\n",
    "        frame_count += 1\n",
    "\n",
    "        # Use epsilon-greedy for exploration\n",
    "        if frame_count < epsilon_random_frames or epsilon > np.random.rand(1)[0]:\n",
    "            # Take random action\n",
    "            action = np.random.choice(num_actions)\n",
    "        else:\n",
    "            # Predict action Q-values\n",
    "            # From environment state\n",
    "            state_tensor = keras.ops.convert_to_tensor(state)\n",
    "            state_tensor = keras.ops.expand_dims(state_tensor, 0)\n",
    "            action_probs = model(state_tensor, training=False) \n",
    "            # Take best action\n",
    "            action = keras.ops.argmax(action_probs[0]).numpy()\n",
    "        # Decay probability of taking random action\n",
    "        epsilon -= epsilon_interval / epsilon_greedy_frames\n",
    "        epsilon = max(epsilon, epsilon_min)\n",
    "\n",
    "        # Apply the sampled action in our environment\n",
    "        state_next, reward, done, _, info = env.step(action)\n",
    "        state_next = np.array(state_next)\n",
    "\n",
    "        episode_reward += reward\n",
    "\n",
    "        # Save actions and states in replay buffer\n",
    "        action_history.append(action)\n",
    "        state_history.append(state)\n",
    "        state_next_history.append(state_next)\n",
    "        done_history.append(done)\n",
    "        rewards_history.append(reward)\n",
    "        state = state_next\n",
    "\n",
    "        # Update every fourth frame and once batch size is over 32\n",
    "        if frame_count % update_after_actions == 0 and len(done_history) > batch_size:\n",
    "            # Get indices of samples for replay buffers\n",
    "            indices = np.random.choice(\n",
    "                range(len(done_history)), size=batch_size)\n",
    "\n",
    "            # Using list comprehension to sample from replay buffer\n",
    "            state_sample = np.array([state_history[i] for i in indices])\n",
    "            state_next_sample = np.array(\n",
    "                [state_next_history[i] for i in indices])\n",
    "            rewards_sample = [rewards_history[i] for i in indices]\n",
    "            action_sample = [action_history[i] for i in indices]\n",
    "            done_sample = keras.ops.convert_to_tensor(\n",
    "                [float(done_history[i]) for i in indices]\n",
    "            )\n",
    "\n",
    "            # Build the updated Q-values for the sampled future states\n",
    "            # Use the target model for stability\n",
    "            future_rewards = model_target.predict(state_next_sample, verbose=0)\n",
    "            # Q value = reward + discount factor * expected future reward\n",
    "            updated_q_values = rewards_sample + gamma * keras.ops.amax(\n",
    "                future_rewards, axis=1\n",
    "            )\n",
    "\n",
    "            # If final frame set the last value to -1\n",
    "            updated_q_values = updated_q_values * \\\n",
    "                (1 - done_sample) - done_sample\n",
    "\n",
    "            # Create a mask so we only calculate loss on the updated Q-values\n",
    "            masks = keras.ops.one_hot(action_sample, num_actions)\n",
    "\n",
    "            with tf.GradientTape() as tape:\n",
    "                # Train the model on the states and updated Q-values\n",
    "                q_values = model(state_sample)\n",
    "\n",
    "                # Apply the masks to the Q-values to get the Q-value for action taken\n",
    "                q_action = keras.ops.sum(\n",
    "                    keras.ops.multiply(q_values, masks), axis=1)\n",
    "                # Calculate loss between new Q-value and old Q-value\n",
    "                loss = loss_function(updated_q_values, q_action)\n",
    "\n",
    "            # Backpropagation\n",
    "            grads = tape.gradient(loss, model.trainable_variables)\n",
    "            optimizer.apply_gradients(zip(grads, model.trainable_variables))\n",
    "\n",
    "        if frame_count % update_target_network == 0:\n",
    "            # update the the target network with new weights\n",
    "            model_target.set_weights(model.get_weights())\n",
    "            # Log details\n",
    "            print(f\"best score of last 100: {np.max(episode_reward_history)}, running reward: {running_reward:.2f} at episode {episode_count}, frame count {frame_count}\")\n",
    "            model.save(f\"./Outputs/breakout_qmodel_{episode_count}.keras\")\n",
    "\n",
    "        # Limit the state and reward history\n",
    "        if len(rewards_history) > max_memory_length:\n",
    "            del rewards_history[:1]\n",
    "            del state_history[:1]\n",
    "            del state_next_history[:1]\n",
    "            del action_history[:1]\n",
    "            del done_history[:1]\n",
    "\n",
    "        if done:\n",
    "            break\n",
    "\n",
    "    # Update running reward to check condition for solving\n",
    "    episode_reward_history.append(episode_reward)\n",
    "    if len(episode_reward_history) > 100:\n",
    "        del episode_reward_history[:1]\n",
    "    running_reward = np.mean(episode_reward_history)\n",
    "\n",
    "    logging.info(f\"Episode {episode_count}, info['episode']\")\n",
    "\n",
    "    episode_count += 1\n",
    "\n",
    "    if running_reward > 9000:  # Condition to consider the task solved\n",
    "        print(\"Solved at episode {}!\".format(episode_count))\n",
    "        break\n",
    "\n",
    "    if (\n",
    "        max_episodes > 0 and episode_count >= max_episodes\n",
    "    ):  # Maximum number of episodes reached\n",
    "        print(\"Stopped at episode {}!\".format(episode_count))\n",
    "        break\n",
    "    if (max_frames <= frame_count):\n",
    "        print(f\"Stopped at frame {frame_count}!\")"
   ]
  }
 ],
 "metadata": {
  "kernelspec": {
   "display_name": ".venv",
   "language": "python",
   "name": "python3"
  },
  "language_info": {
   "codemirror_mode": {
    "name": "ipython",
    "version": 3
   },
   "file_extension": ".py",
   "mimetype": "text/x-python",
   "name": "python",
   "nbconvert_exporter": "python",
   "pygments_lexer": "ipython3",
   "version": "3.11.5"
  }
 },
 "nbformat": 4,
 "nbformat_minor": 2
}
