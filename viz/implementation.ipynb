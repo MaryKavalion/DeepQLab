{
 "cells": [
  {
   "cell_type": "code",
   "execution_count": 18,
   "metadata": {},
   "outputs": [],
   "source": [
    "import tensorflow as tf  \n",
    "from tensorflow.keras.models import load_model\n",
    "import gymnasium as gym\n",
    "import ale_py\n",
    "from gymnasium.wrappers import FrameStack\n",
    "from gymnasium.wrappers.atari_preprocessing import AtariPreprocessing\n"
   ]
  },
  {
   "cell_type": "code",
   "execution_count": 11,
   "metadata": {},
   "outputs": [],
   "source": [
    "\n",
    "gym . register_envs ( ale_py )\n"
   ]
  },
  {
   "cell_type": "code",
   "execution_count": 16,
   "metadata": {},
   "outputs": [],
   "source": [
    "\n",
    "model_file = r\"D:\\workdir\\DeepQLab\\breakout_qmodel_9680.keras\"\n",
    "agent = load_model(model_file, compile=False, safe_mode = False)\n"
   ]
  },
  {
   "cell_type": "code",
   "execution_count": null,
   "metadata": {},
   "outputs": [],
   "source": [
    "\n",
    "env = gym . make (\"SpaceInvadersNoFrameskip-v4\" , render_mode =\"human\")\n",
    "env = AtariPreprocessing (env)\n",
    "env = FrameStack (env, 4)\n",
    "\n",
    "state , _ = env . reset ()\n",
    "done = False\n",
    "while not done :\n",
    "# first convert to a tensor for compute efficiency\n",
    "    state_tensor = tf.convert_to_tensor(state, dtype=tf.float32)\n",
    "    # Rearrange tensor dimensions (4, 84, 84) -> (84, 84, 4)\n",
    "    state_tensor = tf.transpose(state_tensor, [1, 2, 0])\n",
    "    # Add batch dimension: (84, 84, 4) -> (1, 84, 84, 4)\n",
    "    state_tensor = tf.expand_dims(state_tensor, axis=0)\n",
    "\n",
    "    # Predict action probabilities\n",
    "    action_probs = agent(state_tensor, training=False)\n",
    "    # Take the best action\n",
    "    action = tf.argmax(action_probs[0]).numpy()\n",
    "\n",
    "    # Step in the environment\n",
    "    state, reward, done, _, _ = env.step(action)"
   ]
  }
 ],
 "metadata": {
  "kernelspec": {
   "display_name": ".venv",
   "language": "python",
   "name": "python3"
  },
  "language_info": {
   "codemirror_mode": {
    "name": "ipython",
    "version": 3
   },
   "file_extension": ".py",
   "mimetype": "text/x-python",
   "name": "python",
   "nbconvert_exporter": "python",
   "pygments_lexer": "ipython3",
   "version": "3.11.5"
  }
 },
 "nbformat": 4,
 "nbformat_minor": 2
}
